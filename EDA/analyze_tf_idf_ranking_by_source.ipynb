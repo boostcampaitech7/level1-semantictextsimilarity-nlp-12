{
 "cells": [
  {
   "cell_type": "markdown",
   "metadata": {},
   "source": [
    "# TF-IDF\n",
    "\n",
    "출쳐별(slack, nsmc, petition)로 TF-IDF 점수가 높은 상위 20개의 단어들을 찾아보고, TF-IDF 점수가 높은 상위 10개의 단어를 그래프를 통해 보여줍니다. dev.csv / train.csv를 각각 따로 점수를 매김으로써, 둘의 TF-IDF 차이를 서로 비교해봅니다. \n",
    "\n",
    "이 작업을 통해 TF-IDF가 높은 단어들이 무엇인지 파악하고, 이를 기반으로 소스 별로 서로 다른 전처리를 하는 편이 낫다는 생각을 하게 되었습니다. 뿐만 아니라 동의어를 통해 데이터 증강을 시도할 때 TF-IDF가 높은 단어를 위주로 진행해보면 효과적인 성능 향상을 가져올 것이라는 생각을 했습니다."
   ]
  },
  {
   "cell_type": "code",
   "execution_count": null,
   "metadata": {},
   "outputs": [],
   "source": [
    "import pandas as pd\n",
    "from sklearn.feature_extraction.text import TfidfVectorizer\n",
    "import matplotlib.pyplot as plt\n",
    "from konlpy.tag import Okt  # 한국어 형태소 분석기\n",
    "import re\n",
    "\n",
    "# 데이터 불러오기\n",
    "data = pd.read_csv('../../data/dev.csv')\n",
    "# data = pd.read_csv('../../data/train.csv') - 학습 전용\n",
    "\n",
    "# 각 소스별로 데이터를 나누기\n",
    "sources = ['slack', 'nsmc', 'petition'] \n",
    "\n",
    "# slcak, nsmc, petition 데이터를 나누기\n",
    "source_data = {source: data[data['source'].str.contains(source)] for source in sources}\n",
    "\n",
    "# TF-IDF 벡터라이저 정의\n",
    "vectorizer = TfidfVectorizer(max_features=500)\n",
    "\n",
    "# 소스별로 TF-IDF 계산하고 상위 단어 추출하는 함수\n",
    "def get_top_keywords(tfidf_matrix, terms, n=10): \n",
    "\t\t# 차원 변환 및 내림차순 정렬\n",
    "    sorted_indices = tfidf_matrix.sum(axis=0).A1.argsort()[::-1] \n",
    "\n",
    "\t\t# 상위 10개 항목만 추출\n",
    "    return [terms[i] for i in sorted_indices[:n]]\n",
    "\n",
    "# 각 소스별로 상위 키워드를 분석하고 시각화\n",
    "for source, df in source_data.items():\n",
    "    texts = df['sentence_1'] + \" \" + df['sentence_2']  # 두 문장을 합치기\n",
    "    tfidf_matrix = vectorizer.fit_transform(texts)\n",
    "    terms = vectorizer.get_feature_names_out()\n",
    "    top_keywords = get_top_keywords(tfidf_matrix, terms)\n",
    "    \n",
    "    # 상위 키워드 시각화\n",
    "    plt.figure(figsize=(10, 6))\n",
    "    plt.barh(top_keywords, tfidf_matrix.sum(axis=0).A1[tfidf_matrix.sum(axis=0).A1.argsort()[::-1][:10]])\n",
    "    plt.title(f'{source}의 상위 TF-IDF 단어')\n",
    "    plt.xlabel('TF-IDF 값')\n",
    "    plt.ylabel('단어')\n",
    "    plt.gca().invert_yaxis()  # 상위 단어가 위로 오게 하기\n",
    "    plt.show()"
   ]
  },
  {
   "cell_type": "markdown",
   "metadata": {},
   "source": [
    "## 결과 (slack) \n",
    "\n",
    "### train.csv\n",
    "\n",
    "![tf_idf_slack_train](images/tf_idf_slack_train.png)\n",
    "\n",
    "### dev.csv\n",
    "\n",
    "![tf_idf_slack_dev](images/tf_idf_slack_dev.png)"
   ]
  },
  {
   "cell_type": "markdown",
   "metadata": {},
   "source": [
    "## 결과 (nsmc) \n",
    "\n",
    "### train.csv\n",
    "\n",
    "![tf_idf_nsmc_train](images/tf_idf_nsmc_train.png)\n",
    "\n",
    "### dev.csv\n",
    "\n",
    "![tf_idf_nsmc_dev](images/tf_idf_nsmc_dev.png)"
   ]
  },
  {
   "cell_type": "markdown",
   "metadata": {},
   "source": [
    "## 결과 (petition) \n",
    "\n",
    "### train.csv\n",
    "\n",
    "![tf_idf_petition_train](images/tf_idf_petition_train.png)\n",
    "\n",
    "### dev.csv\n",
    "\n",
    "![tf_idf_petition_dev](images/tf_idf_petition_dev.png)"
   ]
  }
 ],
 "metadata": {
  "language_info": {
   "name": "python"
  }
 },
 "nbformat": 4,
 "nbformat_minor": 2
}
