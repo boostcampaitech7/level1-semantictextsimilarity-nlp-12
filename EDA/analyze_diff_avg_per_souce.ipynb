{
 "cells": [
  {
   "cell_type": "markdown",
   "metadata": {},
   "source": [
    "# 모델별 & 소스별 데이터 오차 평균 분석하기\n",
    "\n",
    "소스별로 데이터의 오차를 구해서, 어떤 모델이 어떤 소스를 더 잘 맞추는 지 분석하기 위한 EDA 작업을 진행하였습니다. \n",
    "\n",
    "#### kr_electra_adjust_data_ratio (다현님) \n",
    "\n",
    "![kr_electra_adjust_data_ratio](images/kr_electra_adjust_data_ratio.png)\n",
    "\n",
    "#### roberta_augument_epoch_5 (준섭님) \n",
    "\n",
    "![roberta_augument_epoch_5](images/roberta_augument_epoch_5.png)\n",
    "\n",
    "#### kr_electra_aug2_epoch5 (채연님)\n",
    "\n",
    "![kr_electra_aug2_epoch5](images/kr_electra_aug2_epoch5.png)\n",
    "\n",
    "#### klue/roberta_large (시온님) \n",
    "\n",
    "![klue/roberta_large](images/klue_roberta_large.png)\n"
   ]
  }
 ],
 "metadata": {
  "language_info": {
   "name": "python"
  }
 },
 "nbformat": 4,
 "nbformat_minor": 2
}
