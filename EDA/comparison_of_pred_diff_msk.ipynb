{
 "cells": [
  {
   "cell_type": "markdown",
   "metadata": {},
   "source": [
    "# Masking 유무에 따른 오차율 분석 \n",
    "\n",
    "Masking 적용 유무에 따라서 오차율(difference)이 어떻게 변화하는 지에 대한 그래프를 그려보았습니다. 오차율을 내림차순으로 정렬하여 상위 50개의 데이터를 뽑았습니다. Data Point Index가 0인 경우는 가장 오차율이 큰 경우고, 왼쪽으로 갈 수록 오차율이 낮은 지점입니다.\n",
    "\n",
    "![comparison_of_prediction_differences](images/comparison_of_prediction_differences.png)"
   ]
  }
 ],
 "metadata": {
  "language_info": {
   "name": "python"
  }
 },
 "nbformat": 4,
 "nbformat_minor": 2
}
